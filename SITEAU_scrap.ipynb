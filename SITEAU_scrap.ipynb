{
 "cells": [
  {
   "cell_type": "markdown",
   "metadata": {},
   "source": [
    "### Fichier permettant d'extraire les données PDF de la base SITEAU (Tchad) à partir d'une extraction manuelle au format *.xlsx\n",
    "\n",
    "Etapes préliminaires :\n",
    "- télécharger la liste des coupes de forages et pompages d'essais sur la page : http://reseau-tchad.org/siteau/coupe_litho/#\n",
    "- copier-coller dans un fichier `.xlsx` avec la première ligne du tableau\n",
    "- *facultatif : enregister au format `.csv` pour sélectionner les données dans un SIG et sauvegarder en `.xlsx`*\n"
   ]
  },
  {
   "cell_type": "code",
   "execution_count": 1,
   "metadata": {},
   "outputs": [
    {
     "name": "stdout",
     "output_type": "stream",
     "text": [
      "Import librairies\n"
     ]
    }
   ],
   "source": [
    "## IMPORTS #########\n",
    "import urllib.request\n",
    "import pandas as pd\n",
    "import os\n",
    "debug=0"
   ]
  },
  {
   "cell_type": "code",
   "execution_count": 2,
   "metadata": {},
   "outputs": [],
   "source": [
    "## FONCTIONS #######\n",
    "# fonction pour importer une extraction du SITEAU au format XLS(X)\n",
    "def import_SITEAU_XLS(fichierXLS):\n",
    "    a=pd.read_excel(fichierXLS, index_col=None)\n",
    "    return a"
   ]
  },
  {
   "cell_type": "markdown",
   "metadata": {},
   "source": [
    "Ci-dessous, il faut sélectionner le nom du fichier `.xlsx` à traiter (logs stratigraphiques ou pompages d'essai).\n",
    "Egalement, il faut définir le préfix des fichiers de sortie car le `.pdf` des logs et des essais est le même."
   ]
  },
  {
   "cell_type": "code",
   "execution_count": 4,
   "metadata": {},
   "outputs": [],
   "source": [
    "## MAIN ###########\n",
    "\n",
    "# fichierXLSX='exportEssais.xlsx'\n",
    "# prefix=\"PDE_\"\n",
    "\n",
    "fichierXLSX='exportLogs.xlsx'\n",
    "prefix=\"LOG_\"\n",
    "\n",
    "# import du fichier XLSX\n",
    "DF=import_SITEAU_XLS(fichierXLSX)"
   ]
  },
  {
   "cell_type": "code",
   "execution_count": 5,
   "metadata": {},
   "outputs": [
    {
     "name": "stdout",
     "output_type": "stream",
     "text": [
      "Nombre de points SITEAU : 3\n",
      " = = = Fin script = = =\n",
      "\n",
      "\n"
     ]
    }
   ],
   "source": [
    "# comptabilisation des points SITEAU\n",
    "DF=DF.set_index(\"Identifiant\")\n",
    "listePointsSITEAU=DF.index\n",
    "if debug:\n",
    "    print(\"Liste des points SITEAU :\",listePointsSITEAU)\n",
    "\n",
    "print(\"Nombre de points SITEAU :\",len(listePointsSITEAU))\n",
    "\n",
    "\n",
    "# boucle de lecture des points SITEAU extraits\n",
    "for pointSITEAU in listePointsSITEAU:\n",
    "    if debug:\n",
    "        print(\"Point SITEAU courant :\",pointSITEAU)\n",
    "\n",
    "    # creation repertoire\n",
    "    try:\n",
    "        os.mkdir(pointSITEAU)\n",
    "    except:\n",
    "        pass\n",
    "    # specify the url\n",
    "    urlGNL = 'http://reseau-tchad.org/siteau/coupe_litho/coupes_litho/'\n",
    "    lienPDF = urlGNL + DF['Localisation'][pointSITEAU].replace('\\\\','/')    \n",
    "    \n",
    "    try:\n",
    "        nomPDF=prefix+lienPDF.split('/')[-1]\n",
    "        if debug:\n",
    "                print(\"Nom pdf :\",nomPDF)\n",
    "        data=urllib.request.urlretrieve(lienPDF,pointSITEAU+'\\\\'+nomPDF) # Windows\n",
    "        #data=urllib.request.urlretrieve(lienPDF,pointSITEAU+'/'+nomPDF) # Unix\n",
    "    except:\n",
    "        pass\n",
    "\n",
    "    if debug:\n",
    "        print(\"Requete donnee : OK\")\n",
    "   \n",
    "\n",
    "print(\" = = = Fin script = = =\\n\\n\")"
   ]
  },
  {
   "cell_type": "code",
   "execution_count": null,
   "metadata": {},
   "outputs": [],
   "source": []
  }
 ],
 "metadata": {
  "kernelspec": {
   "display_name": "Python 3",
   "language": "python",
   "name": "python3"
  },
  "language_info": {
   "codemirror_mode": {
    "name": "ipython",
    "version": 3
   },
   "file_extension": ".py",
   "mimetype": "text/x-python",
   "name": "python",
   "nbconvert_exporter": "python",
   "pygments_lexer": "ipython3",
   "version": "3.8.5"
  }
 },
 "nbformat": 4,
 "nbformat_minor": 4
}
